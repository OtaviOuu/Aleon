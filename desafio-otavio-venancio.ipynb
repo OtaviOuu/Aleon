{
 "cells": [
  {
   "cell_type": "markdown",
   "metadata": {},
   "source": [
    "```markdown\n",
    "# Aleon - Desafio Técnico\n",
    "\n",
    "API escolhida: Senado Federal\n",
    "```\n"
   ]
  },
  {
   "cell_type": "markdown",
   "metadata": {},
   "source": [
    "```markdown\n",
    "# Script para Analisar a Quantidade de \"Matérias Legislativas\" que Cada Parlamentar Foi Autor\n",
    "\n",
    "Nesse contexto, são exemplos de **\"Matérias Legislativas\"**:\n",
    "\n",
    "1. Projetos de Lei (PL)\n",
    "2. Projetos de Emenda à Constituição (PEC)\n",
    "3. Projetos de Lei Complementar (PLC)\n",
    "4. Propostas de Emenda à Constituição (PEC)\n",
    "5. Requerimentos\n",
    "6. Indicações\n",
    "7. Moções\n",
    "8. Vetos\n",
    "9. Projetos de Decreto Legislativo (PDL)\n",
    "10. Emendas\n",
    "11. Relatórios\n",
    "```\n"
   ]
  },
  {
   "cell_type": "markdown",
   "metadata": {},
   "source": [
    "```markdown\n",
    "# Importando as bibliotecas necessárias\n",
    "```\n"
   ]
  },
  {
   "cell_type": "code",
   "execution_count": null,
   "metadata": {},
   "outputs": [],
   "source": [
    "import requests\n",
    "import pandas as pd\n",
    "import plotly.express as px"
   ]
  },
  {
   "cell_type": "markdown",
   "metadata": {},
   "source": [
    "```markdown\n",
    "# Fazendo a requisição para a api do senado\n",
    "```\n"
   ]
  },
  {
   "cell_type": "code",
   "execution_count": null,
   "metadata": {},
   "outputs": [],
   "source": [
    "url = \"https://legis.senado.leg.br/dadosabertos/autor/lista/atual\"\n",
    "\n",
    "request = requests.get(url=url, headers={\"Accept\": \"application/json\"})"
   ]
  },
  {
   "cell_type": "markdown",
   "metadata": {},
   "source": [
    "```markdown\n",
    "# Manipulando o Json retornado para conseguir acesso aos dados necessários\n",
    "```\n"
   ]
  },
  {
   "cell_type": "code",
   "execution_count": null,
   "metadata": {},
   "outputs": [],
   "source": [
    "if request.status_code == 200:\n",
    "    try:\n",
    "        data = request.json()[\"ListaAutores\"][\"Autores\"][\"Autor\"]\n",
    "        df_parlamentar = pd.DataFrame(data)\n",
    "\n",
    "    except Exception as e:\n",
    "        print(f\"Erro ao processar json: {e}\")"
   ]
  },
  {
   "cell_type": "markdown",
   "metadata": {},
   "source": [
    "```markdown\n",
    "# Removendo colunas desnecessarias\n",
    "```\n"
   ]
  },
  {
   "cell_type": "code",
   "execution_count": null,
   "metadata": {},
   "outputs": [
    {
     "data": {
      "text/html": [
       "<div>\n",
       "<style scoped>\n",
       "    .dataframe tbody tr th:only-of-type {\n",
       "        vertical-align: middle;\n",
       "    }\n",
       "\n",
       "    .dataframe tbody tr th {\n",
       "        vertical-align: top;\n",
       "    }\n",
       "\n",
       "    .dataframe thead th {\n",
       "        text-align: right;\n",
       "    }\n",
       "</style>\n",
       "<table border=\"1\" class=\"dataframe\">\n",
       "  <thead>\n",
       "    <tr style=\"text-align: right;\">\n",
       "      <th></th>\n",
       "      <th>CodigoParlamentar</th>\n",
       "      <th>FormaTratamento</th>\n",
       "      <th>NomeParlamentar</th>\n",
       "      <th>QuantidadeMaterias</th>\n",
       "    </tr>\n",
       "  </thead>\n",
       "  <tbody>\n",
       "    <tr>\n",
       "      <th>0</th>\n",
       "      <td>945</td>\n",
       "      <td>Senador</td>\n",
       "      <td>Alvaro Dias</td>\n",
       "      <td>120</td>\n",
       "    </tr>\n",
       "    <tr>\n",
       "      <th>1</th>\n",
       "      <td>5929</td>\n",
       "      <td>Senadora</td>\n",
       "      <td>Juíza Selma</td>\n",
       "      <td>43</td>\n",
       "    </tr>\n",
       "    <tr>\n",
       "      <th>2</th>\n",
       "      <td>5976</td>\n",
       "      <td>Senador</td>\n",
       "      <td>Eduardo Girão</td>\n",
       "      <td>532</td>\n",
       "    </tr>\n",
       "    <tr>\n",
       "      <th>3</th>\n",
       "      <td>5732</td>\n",
       "      <td>Senador</td>\n",
       "      <td>Rodrigo Pacheco</td>\n",
       "      <td>60</td>\n",
       "    </tr>\n",
       "    <tr>\n",
       "      <th>4</th>\n",
       "      <td>5905</td>\n",
       "      <td>Senador</td>\n",
       "      <td>Rodrigo Cunha</td>\n",
       "      <td>184</td>\n",
       "    </tr>\n",
       "    <tr>\n",
       "      <th>...</th>\n",
       "      <td>...</td>\n",
       "      <td>...</td>\n",
       "      <td>...</td>\n",
       "      <td>...</td>\n",
       "    </tr>\n",
       "    <tr>\n",
       "      <th>444</th>\n",
       "      <td>6599</td>\n",
       "      <td>Senador</td>\n",
       "      <td>Coronel Telhada</td>\n",
       "      <td>1</td>\n",
       "    </tr>\n",
       "    <tr>\n",
       "      <th>445</th>\n",
       "      <td>5743</td>\n",
       "      <td>Deputado</td>\n",
       "      <td>Delegado Éder Mauro</td>\n",
       "      <td>1</td>\n",
       "    </tr>\n",
       "    <tr>\n",
       "      <th>446</th>\n",
       "      <td>6551</td>\n",
       "      <td>Deputado</td>\n",
       "      <td>Coronel Meira</td>\n",
       "      <td>1</td>\n",
       "    </tr>\n",
       "    <tr>\n",
       "      <th>447</th>\n",
       "      <td>5706</td>\n",
       "      <td>Deputado</td>\n",
       "      <td>Evair Vieira de Melo</td>\n",
       "      <td>1</td>\n",
       "    </tr>\n",
       "    <tr>\n",
       "      <th>448</th>\n",
       "      <td>6207</td>\n",
       "      <td>Deputado</td>\n",
       "      <td>Marcos Pereira</td>\n",
       "      <td>1</td>\n",
       "    </tr>\n",
       "  </tbody>\n",
       "</table>\n",
       "<p>449 rows × 4 columns</p>\n",
       "</div>"
      ],
      "text/plain": [
       "    CodigoParlamentar FormaTratamento       NomeParlamentar QuantidadeMaterias\n",
       "0                 945        Senador            Alvaro Dias                120\n",
       "1                5929       Senadora            Juíza Selma                 43\n",
       "2                5976        Senador          Eduardo Girão                532\n",
       "3                5732        Senador        Rodrigo Pacheco                 60\n",
       "4                5905        Senador          Rodrigo Cunha                184\n",
       "..                ...             ...                   ...                ...\n",
       "444              6599        Senador        Coronel Telhada                  1\n",
       "445              5743       Deputado    Delegado Éder Mauro                  1\n",
       "446              6551       Deputado          Coronel Meira                  1\n",
       "447              5706       Deputado   Evair Vieira de Melo                  1\n",
       "448              6207       Deputado         Marcos Pereira                  1\n",
       "\n",
       "[449 rows x 4 columns]"
      ]
     },
     "execution_count": 23,
     "metadata": {},
     "output_type": "execute_result"
    }
   ],
   "source": [
    "# Removendo colunas desnecessarias\n",
    "columns_to_remove = [\n",
    "    \"UrlPaginaParlamentar\",\n",
    "    \"UrlFotoParlamentar\",\n",
    "    \"UfParlamentar\",\n",
    "]\n",
    "df_parlamentar = df_parlamentar.drop(columns=columns_to_remove)\n",
    "\n",
    "df_parlamentar"
   ]
  },
  {
   "cell_type": "markdown",
   "metadata": {},
   "source": [
    "```markdown\n",
    "# Renomeando colunas para melhor apresentação\n",
    "```\n"
   ]
  },
  {
   "cell_type": "code",
   "execution_count": null,
   "metadata": {},
   "outputs": [
    {
     "data": {
      "text/html": [
       "<div>\n",
       "<style scoped>\n",
       "    .dataframe tbody tr th:only-of-type {\n",
       "        vertical-align: middle;\n",
       "    }\n",
       "\n",
       "    .dataframe tbody tr th {\n",
       "        vertical-align: top;\n",
       "    }\n",
       "\n",
       "    .dataframe thead th {\n",
       "        text-align: right;\n",
       "    }\n",
       "</style>\n",
       "<table border=\"1\" class=\"dataframe\">\n",
       "  <thead>\n",
       "    <tr style=\"text-align: right;\">\n",
       "      <th></th>\n",
       "      <th>Código</th>\n",
       "      <th>Título</th>\n",
       "      <th>Nome</th>\n",
       "      <th>Materiais</th>\n",
       "    </tr>\n",
       "  </thead>\n",
       "  <tbody>\n",
       "    <tr>\n",
       "      <th>0</th>\n",
       "      <td>945</td>\n",
       "      <td>Senador</td>\n",
       "      <td>Alvaro Dias</td>\n",
       "      <td>120</td>\n",
       "    </tr>\n",
       "    <tr>\n",
       "      <th>1</th>\n",
       "      <td>5929</td>\n",
       "      <td>Senadora</td>\n",
       "      <td>Juíza Selma</td>\n",
       "      <td>43</td>\n",
       "    </tr>\n",
       "    <tr>\n",
       "      <th>2</th>\n",
       "      <td>5976</td>\n",
       "      <td>Senador</td>\n",
       "      <td>Eduardo Girão</td>\n",
       "      <td>532</td>\n",
       "    </tr>\n",
       "    <tr>\n",
       "      <th>3</th>\n",
       "      <td>5732</td>\n",
       "      <td>Senador</td>\n",
       "      <td>Rodrigo Pacheco</td>\n",
       "      <td>60</td>\n",
       "    </tr>\n",
       "    <tr>\n",
       "      <th>4</th>\n",
       "      <td>5905</td>\n",
       "      <td>Senador</td>\n",
       "      <td>Rodrigo Cunha</td>\n",
       "      <td>184</td>\n",
       "    </tr>\n",
       "    <tr>\n",
       "      <th>...</th>\n",
       "      <td>...</td>\n",
       "      <td>...</td>\n",
       "      <td>...</td>\n",
       "      <td>...</td>\n",
       "    </tr>\n",
       "    <tr>\n",
       "      <th>444</th>\n",
       "      <td>6599</td>\n",
       "      <td>Senador</td>\n",
       "      <td>Coronel Telhada</td>\n",
       "      <td>1</td>\n",
       "    </tr>\n",
       "    <tr>\n",
       "      <th>445</th>\n",
       "      <td>5743</td>\n",
       "      <td>Deputado</td>\n",
       "      <td>Delegado Éder Mauro</td>\n",
       "      <td>1</td>\n",
       "    </tr>\n",
       "    <tr>\n",
       "      <th>446</th>\n",
       "      <td>6551</td>\n",
       "      <td>Deputado</td>\n",
       "      <td>Coronel Meira</td>\n",
       "      <td>1</td>\n",
       "    </tr>\n",
       "    <tr>\n",
       "      <th>447</th>\n",
       "      <td>5706</td>\n",
       "      <td>Deputado</td>\n",
       "      <td>Evair Vieira de Melo</td>\n",
       "      <td>1</td>\n",
       "    </tr>\n",
       "    <tr>\n",
       "      <th>448</th>\n",
       "      <td>6207</td>\n",
       "      <td>Deputado</td>\n",
       "      <td>Marcos Pereira</td>\n",
       "      <td>1</td>\n",
       "    </tr>\n",
       "  </tbody>\n",
       "</table>\n",
       "<p>449 rows × 4 columns</p>\n",
       "</div>"
      ],
      "text/plain": [
       "    Código     Título                  Nome Materiais\n",
       "0      945   Senador            Alvaro Dias       120\n",
       "1     5929  Senadora            Juíza Selma        43\n",
       "2     5976   Senador          Eduardo Girão       532\n",
       "3     5732   Senador        Rodrigo Pacheco        60\n",
       "4     5905   Senador          Rodrigo Cunha       184\n",
       "..     ...        ...                   ...       ...\n",
       "444   6599   Senador        Coronel Telhada         1\n",
       "445   5743  Deputado    Delegado Éder Mauro         1\n",
       "446   6551  Deputado          Coronel Meira         1\n",
       "447   5706  Deputado   Evair Vieira de Melo         1\n",
       "448   6207  Deputado         Marcos Pereira         1\n",
       "\n",
       "[449 rows x 4 columns]"
      ]
     },
     "execution_count": 24,
     "metadata": {},
     "output_type": "execute_result"
    }
   ],
   "source": [
    "columns_to_rename = {\n",
    "    \"FormaTratamento\": \"Título\",\n",
    "    \"NomeParlamentar\": \"Nome\",\n",
    "    \"QuantidadeMaterias\": \"Materiais\",\n",
    "    \"CodigoParlamentar\": \"Código\",\n",
    "}\n",
    "df_parlamentar = df_parlamentar.rename(columns=columns_to_rename)\n",
    "\n",
    "df_parlamentar"
   ]
  },
  {
   "cell_type": "markdown",
   "metadata": {},
   "source": [
    "```markdown\n",
    "# Ordenando os parlamentares por quantidade de Matérias\n",
    "```\n"
   ]
  },
  {
   "cell_type": "code",
   "execution_count": null,
   "metadata": {},
   "outputs": [
    {
     "data": {
      "text/html": [
       "<div>\n",
       "<style scoped>\n",
       "    .dataframe tbody tr th:only-of-type {\n",
       "        vertical-align: middle;\n",
       "    }\n",
       "\n",
       "    .dataframe tbody tr th {\n",
       "        vertical-align: top;\n",
       "    }\n",
       "\n",
       "    .dataframe thead th {\n",
       "        text-align: right;\n",
       "    }\n",
       "</style>\n",
       "<table border=\"1\" class=\"dataframe\">\n",
       "  <thead>\n",
       "    <tr style=\"text-align: right;\">\n",
       "      <th></th>\n",
       "      <th>Código</th>\n",
       "      <th>Título</th>\n",
       "      <th>Nome</th>\n",
       "      <th>Materiais</th>\n",
       "    </tr>\n",
       "  </thead>\n",
       "  <tbody>\n",
       "    <tr>\n",
       "      <th>289</th>\n",
       "      <td>5385</td>\n",
       "      <td>Senador</td>\n",
       "      <td>Irajá</td>\n",
       "      <td>97</td>\n",
       "    </tr>\n",
       "    <tr>\n",
       "      <th>67</th>\n",
       "      <td>35</td>\n",
       "      <td>Senador</td>\n",
       "      <td>Jader Barbalho</td>\n",
       "      <td>96</td>\n",
       "    </tr>\n",
       "    <tr>\n",
       "      <th>339</th>\n",
       "      <td>4994</td>\n",
       "      <td>Senador</td>\n",
       "      <td>Eduardo Braga</td>\n",
       "      <td>92</td>\n",
       "    </tr>\n",
       "    <tr>\n",
       "      <th>287</th>\n",
       "      <td>5350</td>\n",
       "      <td>Senador</td>\n",
       "      <td>Jorginho Mello</td>\n",
       "      <td>90</td>\n",
       "    </tr>\n",
       "    <tr>\n",
       "      <th>11</th>\n",
       "      <td>5561</td>\n",
       "      <td>Senadora</td>\n",
       "      <td>Renilde Bulhões</td>\n",
       "      <td>9</td>\n",
       "    </tr>\n",
       "    <tr>\n",
       "      <th>...</th>\n",
       "      <td>...</td>\n",
       "      <td>...</td>\n",
       "      <td>...</td>\n",
       "      <td>...</td>\n",
       "    </tr>\n",
       "    <tr>\n",
       "      <th>294</th>\n",
       "      <td>5311</td>\n",
       "      <td>Deputado</td>\n",
       "      <td>Alessandro Molon</td>\n",
       "      <td>1</td>\n",
       "    </tr>\n",
       "    <tr>\n",
       "      <th>144</th>\n",
       "      <td>6494</td>\n",
       "      <td>Senador</td>\n",
       "      <td>Max Lemos</td>\n",
       "      <td>1</td>\n",
       "    </tr>\n",
       "    <tr>\n",
       "      <th>296</th>\n",
       "      <td>6245</td>\n",
       "      <td>Deputado</td>\n",
       "      <td>Alexandre Frota</td>\n",
       "      <td>1</td>\n",
       "    </tr>\n",
       "    <tr>\n",
       "      <th>141</th>\n",
       "      <td>4575</td>\n",
       "      <td>Senadora</td>\n",
       "      <td>Lídice da Mata</td>\n",
       "      <td>1</td>\n",
       "    </tr>\n",
       "    <tr>\n",
       "      <th>448</th>\n",
       "      <td>6207</td>\n",
       "      <td>Deputado</td>\n",
       "      <td>Marcos Pereira</td>\n",
       "      <td>1</td>\n",
       "    </tr>\n",
       "  </tbody>\n",
       "</table>\n",
       "<p>449 rows × 4 columns</p>\n",
       "</div>"
      ],
      "text/plain": [
       "    Código     Título              Nome Materiais\n",
       "289   5385   Senador              Irajá        97\n",
       "67      35   Senador     Jader Barbalho        96\n",
       "339   4994   Senador      Eduardo Braga        92\n",
       "287   5350   Senador     Jorginho Mello        90\n",
       "11    5561  Senadora    Renilde Bulhões         9\n",
       "..     ...        ...               ...       ...\n",
       "294   5311  Deputado   Alessandro Molon         1\n",
       "144   6494   Senador          Max Lemos         1\n",
       "296   6245  Deputado    Alexandre Frota         1\n",
       "141   4575  Senadora     Lídice da Mata         1\n",
       "448   6207  Deputado     Marcos Pereira         1\n",
       "\n",
       "[449 rows x 4 columns]"
      ]
     },
     "execution_count": 25,
     "metadata": {},
     "output_type": "execute_result"
    }
   ],
   "source": [
    "df_parlamentar = df_parlamentar.sort_values(by=\"Materiais\", ascending=False)\n",
    "\n",
    "df_parlamentar"
   ]
  },
  {
   "cell_type": "markdown",
   "metadata": {},
   "source": [
    "```markdown\n",
    "# Substituindo valores NaN na coluna \"Títulos\" por \"Sem título\"\n",
    "```\n"
   ]
  },
  {
   "cell_type": "code",
   "execution_count": null,
   "metadata": {},
   "outputs": [
    {
     "data": {
      "text/html": [
       "<style type=\"text/css\">\n",
       "#T_e87f5_row5_col1, #T_e87f5_row18_col1, #T_e87f5_row28_col1 {\n",
       "  background-color: yellow;\n",
       "  color: red;\n",
       "  font-weight: bold;\n",
       "}\n",
       "</style>\n",
       "<table id=\"T_e87f5\">\n",
       "  <thead>\n",
       "    <tr>\n",
       "      <th class=\"blank level0\" >&nbsp;</th>\n",
       "      <th id=\"T_e87f5_level0_col0\" class=\"col_heading level0 col0\" >Código</th>\n",
       "      <th id=\"T_e87f5_level0_col1\" class=\"col_heading level0 col1\" >Título</th>\n",
       "      <th id=\"T_e87f5_level0_col2\" class=\"col_heading level0 col2\" >Nome</th>\n",
       "      <th id=\"T_e87f5_level0_col3\" class=\"col_heading level0 col3\" >Materiais</th>\n",
       "    </tr>\n",
       "  </thead>\n",
       "  <tbody>\n",
       "    <tr>\n",
       "      <th id=\"T_e87f5_level0_row0\" class=\"row_heading level0 row0\" >289</th>\n",
       "      <td id=\"T_e87f5_row0_col0\" class=\"data row0 col0\" >5385</td>\n",
       "      <td id=\"T_e87f5_row0_col1\" class=\"data row0 col1\" >Senador </td>\n",
       "      <td id=\"T_e87f5_row0_col2\" class=\"data row0 col2\" >Irajá</td>\n",
       "      <td id=\"T_e87f5_row0_col3\" class=\"data row0 col3\" >97</td>\n",
       "    </tr>\n",
       "    <tr>\n",
       "      <th id=\"T_e87f5_level0_row1\" class=\"row_heading level0 row1\" >67</th>\n",
       "      <td id=\"T_e87f5_row1_col0\" class=\"data row1 col0\" >35</td>\n",
       "      <td id=\"T_e87f5_row1_col1\" class=\"data row1 col1\" >Senador </td>\n",
       "      <td id=\"T_e87f5_row1_col2\" class=\"data row1 col2\" >Jader Barbalho</td>\n",
       "      <td id=\"T_e87f5_row1_col3\" class=\"data row1 col3\" >96</td>\n",
       "    </tr>\n",
       "    <tr>\n",
       "      <th id=\"T_e87f5_level0_row2\" class=\"row_heading level0 row2\" >339</th>\n",
       "      <td id=\"T_e87f5_row2_col0\" class=\"data row2 col0\" >4994</td>\n",
       "      <td id=\"T_e87f5_row2_col1\" class=\"data row2 col1\" >Senador </td>\n",
       "      <td id=\"T_e87f5_row2_col2\" class=\"data row2 col2\" >Eduardo Braga</td>\n",
       "      <td id=\"T_e87f5_row2_col3\" class=\"data row2 col3\" >92</td>\n",
       "    </tr>\n",
       "    <tr>\n",
       "      <th id=\"T_e87f5_level0_row3\" class=\"row_heading level0 row3\" >287</th>\n",
       "      <td id=\"T_e87f5_row3_col0\" class=\"data row3 col0\" >5350</td>\n",
       "      <td id=\"T_e87f5_row3_col1\" class=\"data row3 col1\" >Senador </td>\n",
       "      <td id=\"T_e87f5_row3_col2\" class=\"data row3 col2\" >Jorginho Mello</td>\n",
       "      <td id=\"T_e87f5_row3_col3\" class=\"data row3 col3\" >90</td>\n",
       "    </tr>\n",
       "    <tr>\n",
       "      <th id=\"T_e87f5_level0_row4\" class=\"row_heading level0 row4\" >11</th>\n",
       "      <td id=\"T_e87f5_row4_col0\" class=\"data row4 col0\" >5561</td>\n",
       "      <td id=\"T_e87f5_row4_col1\" class=\"data row4 col1\" >Senadora </td>\n",
       "      <td id=\"T_e87f5_row4_col2\" class=\"data row4 col2\" >Renilde Bulhões</td>\n",
       "      <td id=\"T_e87f5_row4_col3\" class=\"data row4 col3\" >9</td>\n",
       "    </tr>\n",
       "    <tr>\n",
       "      <th id=\"T_e87f5_level0_row5\" class=\"row_heading level0 row5\" >192</th>\n",
       "      <td id=\"T_e87f5_row5_col0\" class=\"data row5 col0\" >6027</td>\n",
       "      <td id=\"T_e87f5_row5_col1\" class=\"data row5 col1\" >Sem título</td>\n",
       "      <td id=\"T_e87f5_row5_col2\" class=\"data row5 col2\" >Mecias de Jesus</td>\n",
       "      <td id=\"T_e87f5_row5_col3\" class=\"data row5 col3\" >9</td>\n",
       "    </tr>\n",
       "    <tr>\n",
       "      <th id=\"T_e87f5_level0_row6\" class=\"row_heading level0 row6\" >428</th>\n",
       "      <td id=\"T_e87f5_row6_col0\" class=\"data row6 col0\" >6510</td>\n",
       "      <td id=\"T_e87f5_row6_col1\" class=\"data row6 col1\" >Deputada </td>\n",
       "      <td id=\"T_e87f5_row6_col2\" class=\"data row6 col2\" >Duda Salabert</td>\n",
       "      <td id=\"T_e87f5_row6_col3\" class=\"data row6 col3\" >9</td>\n",
       "    </tr>\n",
       "    <tr>\n",
       "      <th id=\"T_e87f5_level0_row7\" class=\"row_heading level0 row7\" >297</th>\n",
       "      <td id=\"T_e87f5_row7_col0\" class=\"data row7 col0\" >6019</td>\n",
       "      <td id=\"T_e87f5_row7_col1\" class=\"data row7 col1\" >Senadora </td>\n",
       "      <td id=\"T_e87f5_row7_col2\" class=\"data row7 col2\" >Maria Eliza</td>\n",
       "      <td id=\"T_e87f5_row7_col3\" class=\"data row7 col3\" >9</td>\n",
       "    </tr>\n",
       "    <tr>\n",
       "      <th id=\"T_e87f5_level0_row8\" class=\"row_heading level0 row8\" >77</th>\n",
       "      <td id=\"T_e87f5_row8_col0\" class=\"data row8 col0\" >6418</td>\n",
       "      <td id=\"T_e87f5_row8_col1\" class=\"data row8 col1\" >Deputado </td>\n",
       "      <td id=\"T_e87f5_row8_col2\" class=\"data row8 col2\" >Nikolas Ferreira</td>\n",
       "      <td id=\"T_e87f5_row8_col3\" class=\"data row8 col3\" >9</td>\n",
       "    </tr>\n",
       "    <tr>\n",
       "      <th id=\"T_e87f5_level0_row9\" class=\"row_heading level0 row9\" >6</th>\n",
       "      <td id=\"T_e87f5_row9_col0\" class=\"data row9 col0\" >5236</td>\n",
       "      <td id=\"T_e87f5_row9_col1\" class=\"data row9 col1\" >Senador </td>\n",
       "      <td id=\"T_e87f5_row9_col2\" class=\"data row9 col2\" >Reguffe</td>\n",
       "      <td id=\"T_e87f5_row9_col3\" class=\"data row9 col3\" >89</td>\n",
       "    </tr>\n",
       "    <tr>\n",
       "      <th id=\"T_e87f5_level0_row10\" class=\"row_heading level0 row10\" >69</th>\n",
       "      <td id=\"T_e87f5_row10_col0\" class=\"data row10 col0\" >6304</td>\n",
       "      <td id=\"T_e87f5_row10_col1\" class=\"data row10 col1\" >Senadora </td>\n",
       "      <td id=\"T_e87f5_row10_col2\" class=\"data row10 col2\" >Margareth Buzetti</td>\n",
       "      <td id=\"T_e87f5_row10_col3\" class=\"data row10 col3\" >85</td>\n",
       "    </tr>\n",
       "    <tr>\n",
       "      <th id=\"T_e87f5_level0_row11\" class=\"row_heading level0 row11\" >117</th>\n",
       "      <td id=\"T_e87f5_row11_col0\" class=\"data row11 col0\" >5666</td>\n",
       "      <td id=\"T_e87f5_row11_col1\" class=\"data row11 col1\" >Senador </td>\n",
       "      <td id=\"T_e87f5_row11_col2\" class=\"data row11 col2\" >Major Olimpio</td>\n",
       "      <td id=\"T_e87f5_row11_col3\" class=\"data row11 col3\" >84</td>\n",
       "    </tr>\n",
       "    <tr>\n",
       "      <th id=\"T_e87f5_level0_row12\" class=\"row_heading level0 row12\" >129</th>\n",
       "      <td id=\"T_e87f5_row12_col0\" class=\"data row12 col0\" >6350</td>\n",
       "      <td id=\"T_e87f5_row12_col1\" class=\"data row12 col1\" >Senadora </td>\n",
       "      <td id=\"T_e87f5_row12_col2\" class=\"data row12 col2\" >Augusta Brito</td>\n",
       "      <td id=\"T_e87f5_row12_col3\" class=\"data row12 col3\" >82</td>\n",
       "    </tr>\n",
       "    <tr>\n",
       "      <th id=\"T_e87f5_level0_row13\" class=\"row_heading level0 row13\" >115</th>\n",
       "      <td id=\"T_e87f5_row13_col0\" class=\"data row13 col0\" >5525</td>\n",
       "      <td id=\"T_e87f5_row13_col1\" class=\"data row13 col1\" >Senador </td>\n",
       "      <td id=\"T_e87f5_row13_col2\" class=\"data row13 col2\" >Omar Aziz</td>\n",
       "      <td id=\"T_e87f5_row13_col3\" class=\"data row13 col3\" >81</td>\n",
       "    </tr>\n",
       "    <tr>\n",
       "      <th id=\"T_e87f5_level0_row14\" class=\"row_heading level0 row14\" >128</th>\n",
       "      <td id=\"T_e87f5_row14_col0\" class=\"data row14 col0\" >5070</td>\n",
       "      <td id=\"T_e87f5_row14_col1\" class=\"data row14 col1\" >Senador </td>\n",
       "      <td id=\"T_e87f5_row14_col2\" class=\"data row14 col2\" >Wilder Morais</td>\n",
       "      <td id=\"T_e87f5_row14_col3\" class=\"data row14 col3\" >81</td>\n",
       "    </tr>\n",
       "    <tr>\n",
       "      <th id=\"T_e87f5_level0_row15\" class=\"row_heading level0 row15\" >171</th>\n",
       "      <td id=\"T_e87f5_row15_col0\" class=\"data row15 col0\" >2331</td>\n",
       "      <td id=\"T_e87f5_row15_col1\" class=\"data row15 col1\" >Senadora </td>\n",
       "      <td id=\"T_e87f5_row15_col2\" class=\"data row15 col2\" >Rose de Freitas</td>\n",
       "      <td id=\"T_e87f5_row15_col3\" class=\"data row15 col3\" >80</td>\n",
       "    </tr>\n",
       "    <tr>\n",
       "      <th id=\"T_e87f5_level0_row16\" class=\"row_heading level0 row16\" >243</th>\n",
       "      <td id=\"T_e87f5_row16_col0\" class=\"data row16 col0\" >5972</td>\n",
       "      <td id=\"T_e87f5_row16_col1\" class=\"data row16 col1\" >Senador </td>\n",
       "      <td id=\"T_e87f5_row16_col2\" class=\"data row16 col2\" >Julio Ventura</td>\n",
       "      <td id=\"T_e87f5_row16_col3\" class=\"data row16 col3\" >8</td>\n",
       "    </tr>\n",
       "    <tr>\n",
       "      <th id=\"T_e87f5_level0_row17\" class=\"row_heading level0 row17\" >295</th>\n",
       "      <td id=\"T_e87f5_row17_col0\" class=\"data row17 col0\" >4588</td>\n",
       "      <td id=\"T_e87f5_row17_col1\" class=\"data row17 col1\" >Deputado </td>\n",
       "      <td id=\"T_e87f5_row17_col2\" class=\"data row17 col2\" >José Guimarães</td>\n",
       "      <td id=\"T_e87f5_row17_col3\" class=\"data row17 col3\" >8</td>\n",
       "    </tr>\n",
       "    <tr>\n",
       "      <th id=\"T_e87f5_level0_row18\" class=\"row_heading level0 row18\" >310</th>\n",
       "      <td id=\"T_e87f5_row18_col0\" class=\"data row18 col0\" >4639</td>\n",
       "      <td id=\"T_e87f5_row18_col1\" class=\"data row18 col1\" >Sem título</td>\n",
       "      <td id=\"T_e87f5_row18_col2\" class=\"data row18 col2\" >Beto Faro</td>\n",
       "      <td id=\"T_e87f5_row18_col3\" class=\"data row18 col3\" >8</td>\n",
       "    </tr>\n",
       "    <tr>\n",
       "      <th id=\"T_e87f5_level0_row19\" class=\"row_heading level0 row19\" >251</th>\n",
       "      <td id=\"T_e87f5_row19_col0\" class=\"data row19 col0\" >6366</td>\n",
       "      <td id=\"T_e87f5_row19_col1\" class=\"data row19 col1\" >Senador </td>\n",
       "      <td id=\"T_e87f5_row19_col2\" class=\"data row19 col2\" >André Amaral</td>\n",
       "      <td id=\"T_e87f5_row19_col3\" class=\"data row19 col3\" >8</td>\n",
       "    </tr>\n",
       "    <tr>\n",
       "      <th id=\"T_e87f5_level0_row20\" class=\"row_heading level0 row20\" >15</th>\n",
       "      <td id=\"T_e87f5_row20_col0\" class=\"data row20 col0\" >6038</td>\n",
       "      <td id=\"T_e87f5_row20_col1\" class=\"data row20 col1\" >Deputado </td>\n",
       "      <td id=\"T_e87f5_row20_col2\" class=\"data row20 col2\" >Marcelo Freixo</td>\n",
       "      <td id=\"T_e87f5_row20_col3\" class=\"data row20 col3\" >8</td>\n",
       "    </tr>\n",
       "    <tr>\n",
       "      <th id=\"T_e87f5_level0_row21\" class=\"row_heading level0 row21\" >29</th>\n",
       "      <td id=\"T_e87f5_row21_col0\" class=\"data row21 col0\" >4979</td>\n",
       "      <td id=\"T_e87f5_row21_col1\" class=\"data row21 col1\" >Senador </td>\n",
       "      <td id=\"T_e87f5_row21_col2\" class=\"data row21 col2\" >Bene Camacho</td>\n",
       "      <td id=\"T_e87f5_row21_col3\" class=\"data row21 col3\" >8</td>\n",
       "    </tr>\n",
       "    <tr>\n",
       "      <th id=\"T_e87f5_level0_row22\" class=\"row_heading level0 row22\" >72</th>\n",
       "      <td id=\"T_e87f5_row22_col0\" class=\"data row22 col0\" >4639</td>\n",
       "      <td id=\"T_e87f5_row22_col1\" class=\"data row22 col1\" >Senador </td>\n",
       "      <td id=\"T_e87f5_row22_col2\" class=\"data row22 col2\" >Beto Faro</td>\n",
       "      <td id=\"T_e87f5_row22_col3\" class=\"data row22 col3\" >79</td>\n",
       "    </tr>\n",
       "    <tr>\n",
       "      <th id=\"T_e87f5_level0_row23\" class=\"row_heading level0 row23\" >417</th>\n",
       "      <td id=\"T_e87f5_row23_col0\" class=\"data row23 col0\" >4642</td>\n",
       "      <td id=\"T_e87f5_row23_col1\" class=\"data row23 col1\" >Senador </td>\n",
       "      <td id=\"T_e87f5_row23_col2\" class=\"data row23 col2\" >Efraim Filho</td>\n",
       "      <td id=\"T_e87f5_row23_col3\" class=\"data row23 col3\" >78</td>\n",
       "    </tr>\n",
       "    <tr>\n",
       "      <th id=\"T_e87f5_level0_row24\" class=\"row_heading level0 row24\" >423</th>\n",
       "      <td id=\"T_e87f5_row24_col0\" class=\"data row24 col0\" >6506</td>\n",
       "      <td id=\"T_e87f5_row24_col1\" class=\"data row24 col1\" >Deputado </td>\n",
       "      <td id=\"T_e87f5_row24_col2\" class=\"data row24 col2\" >Delegado Ramagem</td>\n",
       "      <td id=\"T_e87f5_row24_col3\" class=\"data row24 col3\" >73</td>\n",
       "    </tr>\n",
       "    <tr>\n",
       "      <th id=\"T_e87f5_level0_row25\" class=\"row_heading level0 row25\" >409</th>\n",
       "      <td id=\"T_e87f5_row25_col0\" class=\"data row25 col0\" >4981</td>\n",
       "      <td id=\"T_e87f5_row25_col1\" class=\"data row25 col1\" >Senador </td>\n",
       "      <td id=\"T_e87f5_row25_col2\" class=\"data row25 col2\" >Acir Gurgacz</td>\n",
       "      <td id=\"T_e87f5_row25_col3\" class=\"data row25 col3\" >72</td>\n",
       "    </tr>\n",
       "    <tr>\n",
       "      <th id=\"T_e87f5_level0_row26\" class=\"row_heading level0 row26\" >226</th>\n",
       "      <td id=\"T_e87f5_row26_col0\" class=\"data row26 col0\" >5557</td>\n",
       "      <td id=\"T_e87f5_row26_col1\" class=\"data row26 col1\" >Senadora </td>\n",
       "      <td id=\"T_e87f5_row26_col2\" class=\"data row26 col2\" >Mailza Gomes</td>\n",
       "      <td id=\"T_e87f5_row26_col3\" class=\"data row26 col3\" >72</td>\n",
       "    </tr>\n",
       "    <tr>\n",
       "      <th id=\"T_e87f5_level0_row27\" class=\"row_heading level0 row27\" >355</th>\n",
       "      <td id=\"T_e87f5_row27_col0\" class=\"data row27 col0\" >878</td>\n",
       "      <td id=\"T_e87f5_row27_col1\" class=\"data row27 col1\" >Senador </td>\n",
       "      <td id=\"T_e87f5_row27_col2\" class=\"data row27 col2\" >José Aníbal</td>\n",
       "      <td id=\"T_e87f5_row27_col3\" class=\"data row27 col3\" >7</td>\n",
       "    </tr>\n",
       "    <tr>\n",
       "      <th id=\"T_e87f5_level0_row28\" class=\"row_heading level0 row28\" >371</th>\n",
       "      <td id=\"T_e87f5_row28_col0\" class=\"data row28 col0\" >5736</td>\n",
       "      <td id=\"T_e87f5_row28_col1\" class=\"data row28 col1\" >Sem título</td>\n",
       "      <td id=\"T_e87f5_row28_col2\" class=\"data row28 col2\" >Tereza Cristina</td>\n",
       "      <td id=\"T_e87f5_row28_col3\" class=\"data row28 col3\" >7</td>\n",
       "    </tr>\n",
       "    <tr>\n",
       "      <th id=\"T_e87f5_level0_row29\" class=\"row_heading level0 row29\" >249</th>\n",
       "      <td id=\"T_e87f5_row29_col0\" class=\"data row29 col0\" >6586</td>\n",
       "      <td id=\"T_e87f5_row29_col1\" class=\"data row29 col1\" >Deputada </td>\n",
       "      <td id=\"T_e87f5_row29_col2\" class=\"data row29 col2\" >Carol Dartora</td>\n",
       "      <td id=\"T_e87f5_row29_col3\" class=\"data row29 col3\" >7</td>\n",
       "    </tr>\n",
       "  </tbody>\n",
       "</table>\n"
      ],
      "text/plain": [
       "<pandas.io.formats.style.Styler at 0x7fb7a2dca0b0>"
      ]
     },
     "execution_count": 26,
     "metadata": {},
     "output_type": "execute_result"
    }
   ],
   "source": [
    "df_parlamentar[\"Título\"] = df_parlamentar[\"Título\"].fillna(\"Sem título\")\n",
    "\n",
    "df_parlamentar[\"Título\"].filter(like=\"Sem título\", axis=0)\n",
    "\n",
    "\n",
    "# Para exemplicar a mudança\n",
    "def highlight_sem_titulo(value):\n",
    "    if value == \"Sem título\":\n",
    "        return \"background-color: yellow; color: red; font-weight: bold;\"\n",
    "    return \"\"\n",
    "\n",
    "\n",
    "df_parlamentar.head(30).style.map(highlight_sem_titulo, subset=[\"Título\"])"
   ]
  },
  {
   "cell_type": "markdown",
   "metadata": {},
   "source": [
    "```markdown\n",
    "# Finalizações na tipagem dos dados\n",
    "```\n"
   ]
  },
  {
   "cell_type": "code",
   "execution_count": null,
   "metadata": {},
   "outputs": [],
   "source": [
    "# Garantindo que a coluna tenha o tipo correto\n",
    "df_parlamentar[\"Materiais\"] = pd.to_numeric(df_parlamentar[\"Materiais\"]).astype(int)"
   ]
  },
  {
   "cell_type": "markdown",
   "metadata": {},
   "source": [
    "```markdown\n",
    "# Análise sobre a quantidade de Materiais produzidos por cada Título de parlamentares\n",
    "```\n"
   ]
  },
  {
   "cell_type": "code",
   "execution_count": null,
   "metadata": {},
   "outputs": [
    {
     "data": {
      "application/vnd.plotly.v1+json": {
       "config": {
        "plotlyServerURL": "https://plot.ly"
       },
       "data": [
        {
         "alignmentgroup": "True",
         "hovertemplate": "Título=%{x}<br>Materiais=%{y}<extra></extra>",
         "legendgroup": "",
         "marker": {
          "color": "#636efa",
          "pattern": {
           "shape": ""
          }
         },
         "name": "",
         "offsetgroup": "",
         "orientation": "v",
         "showlegend": false,
         "textposition": "auto",
         "type": "bar",
         "x": [
          "Deputada ",
          "Deputado ",
          "Sem título",
          "Senador ",
          "Senadora "
         ],
         "xaxis": "x",
         "y": [
          79,
          366,
          138,
          14604,
          2949
         ],
         "yaxis": "y"
        }
       ],
       "layout": {
        "autosize": true,
        "barmode": "relative",
        "legend": {
         "tracegroupgap": 0
        },
        "template": {
         "data": {
          "bar": [
           {
            "error_x": {
             "color": "#2a3f5f"
            },
            "error_y": {
             "color": "#2a3f5f"
            },
            "marker": {
             "line": {
              "color": "#E5ECF6",
              "width": 0.5
             },
             "pattern": {
              "fillmode": "overlay",
              "size": 10,
              "solidity": 0.2
             }
            },
            "type": "bar"
           }
          ],
          "barpolar": [
           {
            "marker": {
             "line": {
              "color": "#E5ECF6",
              "width": 0.5
             },
             "pattern": {
              "fillmode": "overlay",
              "size": 10,
              "solidity": 0.2
             }
            },
            "type": "barpolar"
           }
          ],
          "carpet": [
           {
            "aaxis": {
             "endlinecolor": "#2a3f5f",
             "gridcolor": "white",
             "linecolor": "white",
             "minorgridcolor": "white",
             "startlinecolor": "#2a3f5f"
            },
            "baxis": {
             "endlinecolor": "#2a3f5f",
             "gridcolor": "white",
             "linecolor": "white",
             "minorgridcolor": "white",
             "startlinecolor": "#2a3f5f"
            },
            "type": "carpet"
           }
          ],
          "choropleth": [
           {
            "colorbar": {
             "outlinewidth": 0,
             "ticks": ""
            },
            "type": "choropleth"
           }
          ],
          "contour": [
           {
            "colorbar": {
             "outlinewidth": 0,
             "ticks": ""
            },
            "colorscale": [
             [
              0,
              "#0d0887"
             ],
             [
              0.1111111111111111,
              "#46039f"
             ],
             [
              0.2222222222222222,
              "#7201a8"
             ],
             [
              0.3333333333333333,
              "#9c179e"
             ],
             [
              0.4444444444444444,
              "#bd3786"
             ],
             [
              0.5555555555555556,
              "#d8576b"
             ],
             [
              0.6666666666666666,
              "#ed7953"
             ],
             [
              0.7777777777777778,
              "#fb9f3a"
             ],
             [
              0.8888888888888888,
              "#fdca26"
             ],
             [
              1,
              "#f0f921"
             ]
            ],
            "type": "contour"
           }
          ],
          "contourcarpet": [
           {
            "colorbar": {
             "outlinewidth": 0,
             "ticks": ""
            },
            "type": "contourcarpet"
           }
          ],
          "heatmap": [
           {
            "colorbar": {
             "outlinewidth": 0,
             "ticks": ""
            },
            "colorscale": [
             [
              0,
              "#0d0887"
             ],
             [
              0.1111111111111111,
              "#46039f"
             ],
             [
              0.2222222222222222,
              "#7201a8"
             ],
             [
              0.3333333333333333,
              "#9c179e"
             ],
             [
              0.4444444444444444,
              "#bd3786"
             ],
             [
              0.5555555555555556,
              "#d8576b"
             ],
             [
              0.6666666666666666,
              "#ed7953"
             ],
             [
              0.7777777777777778,
              "#fb9f3a"
             ],
             [
              0.8888888888888888,
              "#fdca26"
             ],
             [
              1,
              "#f0f921"
             ]
            ],
            "type": "heatmap"
           }
          ],
          "heatmapgl": [
           {
            "colorbar": {
             "outlinewidth": 0,
             "ticks": ""
            },
            "colorscale": [
             [
              0,
              "#0d0887"
             ],
             [
              0.1111111111111111,
              "#46039f"
             ],
             [
              0.2222222222222222,
              "#7201a8"
             ],
             [
              0.3333333333333333,
              "#9c179e"
             ],
             [
              0.4444444444444444,
              "#bd3786"
             ],
             [
              0.5555555555555556,
              "#d8576b"
             ],
             [
              0.6666666666666666,
              "#ed7953"
             ],
             [
              0.7777777777777778,
              "#fb9f3a"
             ],
             [
              0.8888888888888888,
              "#fdca26"
             ],
             [
              1,
              "#f0f921"
             ]
            ],
            "type": "heatmapgl"
           }
          ],
          "histogram": [
           {
            "marker": {
             "pattern": {
              "fillmode": "overlay",
              "size": 10,
              "solidity": 0.2
             }
            },
            "type": "histogram"
           }
          ],
          "histogram2d": [
           {
            "colorbar": {
             "outlinewidth": 0,
             "ticks": ""
            },
            "colorscale": [
             [
              0,
              "#0d0887"
             ],
             [
              0.1111111111111111,
              "#46039f"
             ],
             [
              0.2222222222222222,
              "#7201a8"
             ],
             [
              0.3333333333333333,
              "#9c179e"
             ],
             [
              0.4444444444444444,
              "#bd3786"
             ],
             [
              0.5555555555555556,
              "#d8576b"
             ],
             [
              0.6666666666666666,
              "#ed7953"
             ],
             [
              0.7777777777777778,
              "#fb9f3a"
             ],
             [
              0.8888888888888888,
              "#fdca26"
             ],
             [
              1,
              "#f0f921"
             ]
            ],
            "type": "histogram2d"
           }
          ],
          "histogram2dcontour": [
           {
            "colorbar": {
             "outlinewidth": 0,
             "ticks": ""
            },
            "colorscale": [
             [
              0,
              "#0d0887"
             ],
             [
              0.1111111111111111,
              "#46039f"
             ],
             [
              0.2222222222222222,
              "#7201a8"
             ],
             [
              0.3333333333333333,
              "#9c179e"
             ],
             [
              0.4444444444444444,
              "#bd3786"
             ],
             [
              0.5555555555555556,
              "#d8576b"
             ],
             [
              0.6666666666666666,
              "#ed7953"
             ],
             [
              0.7777777777777778,
              "#fb9f3a"
             ],
             [
              0.8888888888888888,
              "#fdca26"
             ],
             [
              1,
              "#f0f921"
             ]
            ],
            "type": "histogram2dcontour"
           }
          ],
          "mesh3d": [
           {
            "colorbar": {
             "outlinewidth": 0,
             "ticks": ""
            },
            "type": "mesh3d"
           }
          ],
          "parcoords": [
           {
            "line": {
             "colorbar": {
              "outlinewidth": 0,
              "ticks": ""
             }
            },
            "type": "parcoords"
           }
          ],
          "pie": [
           {
            "automargin": true,
            "type": "pie"
           }
          ],
          "scatter": [
           {
            "fillpattern": {
             "fillmode": "overlay",
             "size": 10,
             "solidity": 0.2
            },
            "type": "scatter"
           }
          ],
          "scatter3d": [
           {
            "line": {
             "colorbar": {
              "outlinewidth": 0,
              "ticks": ""
             }
            },
            "marker": {
             "colorbar": {
              "outlinewidth": 0,
              "ticks": ""
             }
            },
            "type": "scatter3d"
           }
          ],
          "scattercarpet": [
           {
            "marker": {
             "colorbar": {
              "outlinewidth": 0,
              "ticks": ""
             }
            },
            "type": "scattercarpet"
           }
          ],
          "scattergeo": [
           {
            "marker": {
             "colorbar": {
              "outlinewidth": 0,
              "ticks": ""
             }
            },
            "type": "scattergeo"
           }
          ],
          "scattergl": [
           {
            "marker": {
             "colorbar": {
              "outlinewidth": 0,
              "ticks": ""
             }
            },
            "type": "scattergl"
           }
          ],
          "scattermapbox": [
           {
            "marker": {
             "colorbar": {
              "outlinewidth": 0,
              "ticks": ""
             }
            },
            "type": "scattermapbox"
           }
          ],
          "scatterpolar": [
           {
            "marker": {
             "colorbar": {
              "outlinewidth": 0,
              "ticks": ""
             }
            },
            "type": "scatterpolar"
           }
          ],
          "scatterpolargl": [
           {
            "marker": {
             "colorbar": {
              "outlinewidth": 0,
              "ticks": ""
             }
            },
            "type": "scatterpolargl"
           }
          ],
          "scatterternary": [
           {
            "marker": {
             "colorbar": {
              "outlinewidth": 0,
              "ticks": ""
             }
            },
            "type": "scatterternary"
           }
          ],
          "surface": [
           {
            "colorbar": {
             "outlinewidth": 0,
             "ticks": ""
            },
            "colorscale": [
             [
              0,
              "#0d0887"
             ],
             [
              0.1111111111111111,
              "#46039f"
             ],
             [
              0.2222222222222222,
              "#7201a8"
             ],
             [
              0.3333333333333333,
              "#9c179e"
             ],
             [
              0.4444444444444444,
              "#bd3786"
             ],
             [
              0.5555555555555556,
              "#d8576b"
             ],
             [
              0.6666666666666666,
              "#ed7953"
             ],
             [
              0.7777777777777778,
              "#fb9f3a"
             ],
             [
              0.8888888888888888,
              "#fdca26"
             ],
             [
              1,
              "#f0f921"
             ]
            ],
            "type": "surface"
           }
          ],
          "table": [
           {
            "cells": {
             "fill": {
              "color": "#EBF0F8"
             },
             "line": {
              "color": "white"
             }
            },
            "header": {
             "fill": {
              "color": "#C8D4E3"
             },
             "line": {
              "color": "white"
             }
            },
            "type": "table"
           }
          ]
         },
         "layout": {
          "annotationdefaults": {
           "arrowcolor": "#2a3f5f",
           "arrowhead": 0,
           "arrowwidth": 1
          },
          "autotypenumbers": "strict",
          "coloraxis": {
           "colorbar": {
            "outlinewidth": 0,
            "ticks": ""
           }
          },
          "colorscale": {
           "diverging": [
            [
             0,
             "#8e0152"
            ],
            [
             0.1,
             "#c51b7d"
            ],
            [
             0.2,
             "#de77ae"
            ],
            [
             0.3,
             "#f1b6da"
            ],
            [
             0.4,
             "#fde0ef"
            ],
            [
             0.5,
             "#f7f7f7"
            ],
            [
             0.6,
             "#e6f5d0"
            ],
            [
             0.7,
             "#b8e186"
            ],
            [
             0.8,
             "#7fbc41"
            ],
            [
             0.9,
             "#4d9221"
            ],
            [
             1,
             "#276419"
            ]
           ],
           "sequential": [
            [
             0,
             "#0d0887"
            ],
            [
             0.1111111111111111,
             "#46039f"
            ],
            [
             0.2222222222222222,
             "#7201a8"
            ],
            [
             0.3333333333333333,
             "#9c179e"
            ],
            [
             0.4444444444444444,
             "#bd3786"
            ],
            [
             0.5555555555555556,
             "#d8576b"
            ],
            [
             0.6666666666666666,
             "#ed7953"
            ],
            [
             0.7777777777777778,
             "#fb9f3a"
            ],
            [
             0.8888888888888888,
             "#fdca26"
            ],
            [
             1,
             "#f0f921"
            ]
           ],
           "sequentialminus": [
            [
             0,
             "#0d0887"
            ],
            [
             0.1111111111111111,
             "#46039f"
            ],
            [
             0.2222222222222222,
             "#7201a8"
            ],
            [
             0.3333333333333333,
             "#9c179e"
            ],
            [
             0.4444444444444444,
             "#bd3786"
            ],
            [
             0.5555555555555556,
             "#d8576b"
            ],
            [
             0.6666666666666666,
             "#ed7953"
            ],
            [
             0.7777777777777778,
             "#fb9f3a"
            ],
            [
             0.8888888888888888,
             "#fdca26"
            ],
            [
             1,
             "#f0f921"
            ]
           ]
          },
          "colorway": [
           "#636efa",
           "#EF553B",
           "#00cc96",
           "#ab63fa",
           "#FFA15A",
           "#19d3f3",
           "#FF6692",
           "#B6E880",
           "#FF97FF",
           "#FECB52"
          ],
          "font": {
           "color": "#2a3f5f"
          },
          "geo": {
           "bgcolor": "white",
           "lakecolor": "white",
           "landcolor": "#E5ECF6",
           "showlakes": true,
           "showland": true,
           "subunitcolor": "white"
          },
          "hoverlabel": {
           "align": "left"
          },
          "hovermode": "closest",
          "mapbox": {
           "style": "light"
          },
          "paper_bgcolor": "white",
          "plot_bgcolor": "#E5ECF6",
          "polar": {
           "angularaxis": {
            "gridcolor": "white",
            "linecolor": "white",
            "ticks": ""
           },
           "bgcolor": "#E5ECF6",
           "radialaxis": {
            "gridcolor": "white",
            "linecolor": "white",
            "ticks": ""
           }
          },
          "scene": {
           "xaxis": {
            "backgroundcolor": "#E5ECF6",
            "gridcolor": "white",
            "gridwidth": 2,
            "linecolor": "white",
            "showbackground": true,
            "ticks": "",
            "zerolinecolor": "white"
           },
           "yaxis": {
            "backgroundcolor": "#E5ECF6",
            "gridcolor": "white",
            "gridwidth": 2,
            "linecolor": "white",
            "showbackground": true,
            "ticks": "",
            "zerolinecolor": "white"
           },
           "zaxis": {
            "backgroundcolor": "#E5ECF6",
            "gridcolor": "white",
            "gridwidth": 2,
            "linecolor": "white",
            "showbackground": true,
            "ticks": "",
            "zerolinecolor": "white"
           }
          },
          "shapedefaults": {
           "line": {
            "color": "#2a3f5f"
           }
          },
          "ternary": {
           "aaxis": {
            "gridcolor": "white",
            "linecolor": "white",
            "ticks": ""
           },
           "baxis": {
            "gridcolor": "white",
            "linecolor": "white",
            "ticks": ""
           },
           "bgcolor": "#E5ECF6",
           "caxis": {
            "gridcolor": "white",
            "linecolor": "white",
            "ticks": ""
           }
          },
          "title": {
           "x": 0.05
          },
          "xaxis": {
           "automargin": true,
           "gridcolor": "white",
           "linecolor": "white",
           "ticks": "",
           "title": {
            "standoff": 15
           },
           "zerolinecolor": "white",
           "zerolinewidth": 2
          },
          "yaxis": {
           "automargin": true,
           "gridcolor": "white",
           "linecolor": "white",
           "ticks": "",
           "title": {
            "standoff": 15
           },
           "zerolinecolor": "white",
           "zerolinewidth": 2
          }
         }
        },
        "title": {
         "text": "Quantidade de materiais por tipo de parlamentar"
        },
        "xaxis": {
         "anchor": "y",
         "autorange": true,
         "domain": [
          0,
          1
         ],
         "range": [
          -0.5,
          4.5
         ],
         "title": {
          "text": "Título"
         },
         "type": "category"
        },
        "yaxis": {
         "anchor": "x",
         "autorange": true,
         "domain": [
          0,
          1
         ],
         "range": [
          0,
          15372.631578947368
         ],
         "title": {
          "text": "Materiais"
         },
         "type": "linear"
        }
       }
      },
      "text/html": [
       "<div>                            <div id=\"7b861bd1-6891-4bc2-8cc6-6744d91c2ab7\" class=\"plotly-graph-div\" style=\"height:525px; width:100%;\"></div>            <script type=\"text/javascript\">                require([\"plotly\"], function(Plotly) {                    window.PLOTLYENV=window.PLOTLYENV || {};                                    if (document.getElementById(\"7b861bd1-6891-4bc2-8cc6-6744d91c2ab7\")) {                    Plotly.newPlot(                        \"7b861bd1-6891-4bc2-8cc6-6744d91c2ab7\",                        [{\"alignmentgroup\":\"True\",\"hovertemplate\":\"T\\u00edtulo=%{x}\\u003cbr\\u003eMateriais=%{y}\\u003cextra\\u003e\\u003c\\u002fextra\\u003e\",\"legendgroup\":\"\",\"marker\":{\"color\":\"#636efa\",\"pattern\":{\"shape\":\"\"}},\"name\":\"\",\"offsetgroup\":\"\",\"orientation\":\"v\",\"showlegend\":false,\"textposition\":\"auto\",\"x\":[\"Deputada \",\"Deputado \",\"Sem t\\u00edtulo\",\"Senador \",\"Senadora \"],\"xaxis\":\"x\",\"y\":[79,366,138,14604,2949],\"yaxis\":\"y\",\"type\":\"bar\"}],                        {\"template\":{\"data\":{\"histogram2dcontour\":[{\"type\":\"histogram2dcontour\",\"colorbar\":{\"outlinewidth\":0,\"ticks\":\"\"},\"colorscale\":[[0.0,\"#0d0887\"],[0.1111111111111111,\"#46039f\"],[0.2222222222222222,\"#7201a8\"],[0.3333333333333333,\"#9c179e\"],[0.4444444444444444,\"#bd3786\"],[0.5555555555555556,\"#d8576b\"],[0.6666666666666666,\"#ed7953\"],[0.7777777777777778,\"#fb9f3a\"],[0.8888888888888888,\"#fdca26\"],[1.0,\"#f0f921\"]]}],\"choropleth\":[{\"type\":\"choropleth\",\"colorbar\":{\"outlinewidth\":0,\"ticks\":\"\"}}],\"histogram2d\":[{\"type\":\"histogram2d\",\"colorbar\":{\"outlinewidth\":0,\"ticks\":\"\"},\"colorscale\":[[0.0,\"#0d0887\"],[0.1111111111111111,\"#46039f\"],[0.2222222222222222,\"#7201a8\"],[0.3333333333333333,\"#9c179e\"],[0.4444444444444444,\"#bd3786\"],[0.5555555555555556,\"#d8576b\"],[0.6666666666666666,\"#ed7953\"],[0.7777777777777778,\"#fb9f3a\"],[0.8888888888888888,\"#fdca26\"],[1.0,\"#f0f921\"]]}],\"heatmap\":[{\"type\":\"heatmap\",\"colorbar\":{\"outlinewidth\":0,\"ticks\":\"\"},\"colorscale\":[[0.0,\"#0d0887\"],[0.1111111111111111,\"#46039f\"],[0.2222222222222222,\"#7201a8\"],[0.3333333333333333,\"#9c179e\"],[0.4444444444444444,\"#bd3786\"],[0.5555555555555556,\"#d8576b\"],[0.6666666666666666,\"#ed7953\"],[0.7777777777777778,\"#fb9f3a\"],[0.8888888888888888,\"#fdca26\"],[1.0,\"#f0f921\"]]}],\"heatmapgl\":[{\"type\":\"heatmapgl\",\"colorbar\":{\"outlinewidth\":0,\"ticks\":\"\"},\"colorscale\":[[0.0,\"#0d0887\"],[0.1111111111111111,\"#46039f\"],[0.2222222222222222,\"#7201a8\"],[0.3333333333333333,\"#9c179e\"],[0.4444444444444444,\"#bd3786\"],[0.5555555555555556,\"#d8576b\"],[0.6666666666666666,\"#ed7953\"],[0.7777777777777778,\"#fb9f3a\"],[0.8888888888888888,\"#fdca26\"],[1.0,\"#f0f921\"]]}],\"contourcarpet\":[{\"type\":\"contourcarpet\",\"colorbar\":{\"outlinewidth\":0,\"ticks\":\"\"}}],\"contour\":[{\"type\":\"contour\",\"colorbar\":{\"outlinewidth\":0,\"ticks\":\"\"},\"colorscale\":[[0.0,\"#0d0887\"],[0.1111111111111111,\"#46039f\"],[0.2222222222222222,\"#7201a8\"],[0.3333333333333333,\"#9c179e\"],[0.4444444444444444,\"#bd3786\"],[0.5555555555555556,\"#d8576b\"],[0.6666666666666666,\"#ed7953\"],[0.7777777777777778,\"#fb9f3a\"],[0.8888888888888888,\"#fdca26\"],[1.0,\"#f0f921\"]]}],\"surface\":[{\"type\":\"surface\",\"colorbar\":{\"outlinewidth\":0,\"ticks\":\"\"},\"colorscale\":[[0.0,\"#0d0887\"],[0.1111111111111111,\"#46039f\"],[0.2222222222222222,\"#7201a8\"],[0.3333333333333333,\"#9c179e\"],[0.4444444444444444,\"#bd3786\"],[0.5555555555555556,\"#d8576b\"],[0.6666666666666666,\"#ed7953\"],[0.7777777777777778,\"#fb9f3a\"],[0.8888888888888888,\"#fdca26\"],[1.0,\"#f0f921\"]]}],\"mesh3d\":[{\"type\":\"mesh3d\",\"colorbar\":{\"outlinewidth\":0,\"ticks\":\"\"}}],\"scatter\":[{\"fillpattern\":{\"fillmode\":\"overlay\",\"size\":10,\"solidity\":0.2},\"type\":\"scatter\"}],\"parcoords\":[{\"type\":\"parcoords\",\"line\":{\"colorbar\":{\"outlinewidth\":0,\"ticks\":\"\"}}}],\"scatterpolargl\":[{\"type\":\"scatterpolargl\",\"marker\":{\"colorbar\":{\"outlinewidth\":0,\"ticks\":\"\"}}}],\"bar\":[{\"error_x\":{\"color\":\"#2a3f5f\"},\"error_y\":{\"color\":\"#2a3f5f\"},\"marker\":{\"line\":{\"color\":\"#E5ECF6\",\"width\":0.5},\"pattern\":{\"fillmode\":\"overlay\",\"size\":10,\"solidity\":0.2}},\"type\":\"bar\"}],\"scattergeo\":[{\"type\":\"scattergeo\",\"marker\":{\"colorbar\":{\"outlinewidth\":0,\"ticks\":\"\"}}}],\"scatterpolar\":[{\"type\":\"scatterpolar\",\"marker\":{\"colorbar\":{\"outlinewidth\":0,\"ticks\":\"\"}}}],\"histogram\":[{\"marker\":{\"pattern\":{\"fillmode\":\"overlay\",\"size\":10,\"solidity\":0.2}},\"type\":\"histogram\"}],\"scattergl\":[{\"type\":\"scattergl\",\"marker\":{\"colorbar\":{\"outlinewidth\":0,\"ticks\":\"\"}}}],\"scatter3d\":[{\"type\":\"scatter3d\",\"line\":{\"colorbar\":{\"outlinewidth\":0,\"ticks\":\"\"}},\"marker\":{\"colorbar\":{\"outlinewidth\":0,\"ticks\":\"\"}}}],\"scattermapbox\":[{\"type\":\"scattermapbox\",\"marker\":{\"colorbar\":{\"outlinewidth\":0,\"ticks\":\"\"}}}],\"scatterternary\":[{\"type\":\"scatterternary\",\"marker\":{\"colorbar\":{\"outlinewidth\":0,\"ticks\":\"\"}}}],\"scattercarpet\":[{\"type\":\"scattercarpet\",\"marker\":{\"colorbar\":{\"outlinewidth\":0,\"ticks\":\"\"}}}],\"carpet\":[{\"aaxis\":{\"endlinecolor\":\"#2a3f5f\",\"gridcolor\":\"white\",\"linecolor\":\"white\",\"minorgridcolor\":\"white\",\"startlinecolor\":\"#2a3f5f\"},\"baxis\":{\"endlinecolor\":\"#2a3f5f\",\"gridcolor\":\"white\",\"linecolor\":\"white\",\"minorgridcolor\":\"white\",\"startlinecolor\":\"#2a3f5f\"},\"type\":\"carpet\"}],\"table\":[{\"cells\":{\"fill\":{\"color\":\"#EBF0F8\"},\"line\":{\"color\":\"white\"}},\"header\":{\"fill\":{\"color\":\"#C8D4E3\"},\"line\":{\"color\":\"white\"}},\"type\":\"table\"}],\"barpolar\":[{\"marker\":{\"line\":{\"color\":\"#E5ECF6\",\"width\":0.5},\"pattern\":{\"fillmode\":\"overlay\",\"size\":10,\"solidity\":0.2}},\"type\":\"barpolar\"}],\"pie\":[{\"automargin\":true,\"type\":\"pie\"}]},\"layout\":{\"autotypenumbers\":\"strict\",\"colorway\":[\"#636efa\",\"#EF553B\",\"#00cc96\",\"#ab63fa\",\"#FFA15A\",\"#19d3f3\",\"#FF6692\",\"#B6E880\",\"#FF97FF\",\"#FECB52\"],\"font\":{\"color\":\"#2a3f5f\"},\"hovermode\":\"closest\",\"hoverlabel\":{\"align\":\"left\"},\"paper_bgcolor\":\"white\",\"plot_bgcolor\":\"#E5ECF6\",\"polar\":{\"bgcolor\":\"#E5ECF6\",\"angularaxis\":{\"gridcolor\":\"white\",\"linecolor\":\"white\",\"ticks\":\"\"},\"radialaxis\":{\"gridcolor\":\"white\",\"linecolor\":\"white\",\"ticks\":\"\"}},\"ternary\":{\"bgcolor\":\"#E5ECF6\",\"aaxis\":{\"gridcolor\":\"white\",\"linecolor\":\"white\",\"ticks\":\"\"},\"baxis\":{\"gridcolor\":\"white\",\"linecolor\":\"white\",\"ticks\":\"\"},\"caxis\":{\"gridcolor\":\"white\",\"linecolor\":\"white\",\"ticks\":\"\"}},\"coloraxis\":{\"colorbar\":{\"outlinewidth\":0,\"ticks\":\"\"}},\"colorscale\":{\"sequential\":[[0.0,\"#0d0887\"],[0.1111111111111111,\"#46039f\"],[0.2222222222222222,\"#7201a8\"],[0.3333333333333333,\"#9c179e\"],[0.4444444444444444,\"#bd3786\"],[0.5555555555555556,\"#d8576b\"],[0.6666666666666666,\"#ed7953\"],[0.7777777777777778,\"#fb9f3a\"],[0.8888888888888888,\"#fdca26\"],[1.0,\"#f0f921\"]],\"sequentialminus\":[[0.0,\"#0d0887\"],[0.1111111111111111,\"#46039f\"],[0.2222222222222222,\"#7201a8\"],[0.3333333333333333,\"#9c179e\"],[0.4444444444444444,\"#bd3786\"],[0.5555555555555556,\"#d8576b\"],[0.6666666666666666,\"#ed7953\"],[0.7777777777777778,\"#fb9f3a\"],[0.8888888888888888,\"#fdca26\"],[1.0,\"#f0f921\"]],\"diverging\":[[0,\"#8e0152\"],[0.1,\"#c51b7d\"],[0.2,\"#de77ae\"],[0.3,\"#f1b6da\"],[0.4,\"#fde0ef\"],[0.5,\"#f7f7f7\"],[0.6,\"#e6f5d0\"],[0.7,\"#b8e186\"],[0.8,\"#7fbc41\"],[0.9,\"#4d9221\"],[1,\"#276419\"]]},\"xaxis\":{\"gridcolor\":\"white\",\"linecolor\":\"white\",\"ticks\":\"\",\"title\":{\"standoff\":15},\"zerolinecolor\":\"white\",\"automargin\":true,\"zerolinewidth\":2},\"yaxis\":{\"gridcolor\":\"white\",\"linecolor\":\"white\",\"ticks\":\"\",\"title\":{\"standoff\":15},\"zerolinecolor\":\"white\",\"automargin\":true,\"zerolinewidth\":2},\"scene\":{\"xaxis\":{\"backgroundcolor\":\"#E5ECF6\",\"gridcolor\":\"white\",\"linecolor\":\"white\",\"showbackground\":true,\"ticks\":\"\",\"zerolinecolor\":\"white\",\"gridwidth\":2},\"yaxis\":{\"backgroundcolor\":\"#E5ECF6\",\"gridcolor\":\"white\",\"linecolor\":\"white\",\"showbackground\":true,\"ticks\":\"\",\"zerolinecolor\":\"white\",\"gridwidth\":2},\"zaxis\":{\"backgroundcolor\":\"#E5ECF6\",\"gridcolor\":\"white\",\"linecolor\":\"white\",\"showbackground\":true,\"ticks\":\"\",\"zerolinecolor\":\"white\",\"gridwidth\":2}},\"shapedefaults\":{\"line\":{\"color\":\"#2a3f5f\"}},\"annotationdefaults\":{\"arrowcolor\":\"#2a3f5f\",\"arrowhead\":0,\"arrowwidth\":1},\"geo\":{\"bgcolor\":\"white\",\"landcolor\":\"#E5ECF6\",\"subunitcolor\":\"white\",\"showland\":true,\"showlakes\":true,\"lakecolor\":\"white\"},\"title\":{\"x\":0.05},\"mapbox\":{\"style\":\"light\"}}},\"xaxis\":{\"anchor\":\"y\",\"domain\":[0.0,1.0],\"title\":{\"text\":\"T\\u00edtulo\"}},\"yaxis\":{\"anchor\":\"x\",\"domain\":[0.0,1.0],\"title\":{\"text\":\"Materiais\"}},\"legend\":{\"tracegroupgap\":0},\"title\":{\"text\":\"Quantidade de materiais por tipo de parlamentar\"},\"barmode\":\"relative\"},                        {\"responsive\": true}                    ).then(function(){\n",
       "                            \n",
       "var gd = document.getElementById('7b861bd1-6891-4bc2-8cc6-6744d91c2ab7');\n",
       "var x = new MutationObserver(function (mutations, observer) {{\n",
       "        var display = window.getComputedStyle(gd).display;\n",
       "        if (!display || display === 'none') {{\n",
       "            console.log([gd, 'removed!']);\n",
       "            Plotly.purge(gd);\n",
       "            observer.disconnect();\n",
       "        }}\n",
       "}});\n",
       "\n",
       "// Listen for the removal of the full notebook cells\n",
       "var notebookContainer = gd.closest('#notebook-container');\n",
       "if (notebookContainer) {{\n",
       "    x.observe(notebookContainer, {childList: true});\n",
       "}}\n",
       "\n",
       "// Listen for the clearing of the current output cell\n",
       "var outputEl = gd.closest('.output');\n",
       "if (outputEl) {{\n",
       "    x.observe(outputEl, {childList: true});\n",
       "}}\n",
       "\n",
       "                        })                };                });            </script>        </div>"
      ]
     },
     "metadata": {},
     "output_type": "display_data"
    }
   ],
   "source": [
    "df_grouped = df_parlamentar.groupby(\"Título\", as_index=False)[\"Materiais\"].sum()\n",
    "\n",
    "\n",
    "fig = px.bar(\n",
    "    df_grouped,\n",
    "    x=\"Título\",\n",
    "    y=\"Materiais\",\n",
    "    title=\"Quantidade de materiais por tipo de parlamentar\",\n",
    ")\n",
    "\n",
    "#fig.show()\n",
    "fig"
   ]
  },
  {
   "cell_type": "code",
   "execution_count": null,
   "metadata": {},
   "outputs": [],
   "source": []
  }
 ],
 "metadata": {
  "kernelspec": {
   "display_name": "Python 3 (ipykernel)",
   "language": "python",
   "name": "python3"
  },
  "language_info": {
   "codemirror_mode": {
    "name": "ipython",
    "version": 3
   },
   "file_extension": ".py",
   "mimetype": "text/x-python",
   "name": "python",
   "nbconvert_exporter": "python",
   "pygments_lexer": "ipython3",
   "version": "3.10.12"
  }
 },
 "nbformat": 4,
 "nbformat_minor": 4
}
